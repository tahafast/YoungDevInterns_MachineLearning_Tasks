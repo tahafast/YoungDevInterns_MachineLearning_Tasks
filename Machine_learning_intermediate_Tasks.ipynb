{
  "nbformat": 4,
  "nbformat_minor": 0,
  "metadata": {
    "colab": {
      "provenance": []
    },
    "kernelspec": {
      "name": "python3",
      "display_name": "Python 3"
    },
    "language_info": {
      "name": "python"
    }
  },
  "cells": [
    {
      "cell_type": "markdown",
      "source": [
        "#YoungDev Interns\n",
        "Machine Learning Intermediate tasks"
      ],
      "metadata": {
        "id": "I4-DQQbiZiRf"
      }
    },
    {
      "cell_type": "markdown",
      "source": [
        "Task 1: Build a Model with Cross-Validation\n",
        "\n",
        "Use k-fold cross-validation with scikit-learn to assess model performance.\n",
        "Compare metrics such as accuracy or F1-score across folds.\n",
        "Preprocess Data for Machine Learning\n"
      ],
      "metadata": {
        "id": "h_l85OxMR00A"
      }
    },
    {
      "cell_type": "code",
      "execution_count": 6,
      "metadata": {
        "id": "kAwkDQpBOj9H"
      },
      "outputs": [],
      "source": [
        "from sklearn.datasets import load_iris\n",
        "iris = load_iris()\n",
        "X = iris.data\n",
        "y = iris.target"
      ]
    },
    {
      "cell_type": "code",
      "source": [
        "from sklearn.preprocessing import StandardScaler\n",
        "from sklearn.model_selection import train_test_split\n",
        "\n",
        "X_train, X_test, y_train, y_test = train_test_split(X, y, test_size=0.2, random_state=42)\n",
        "\n",
        "scaler = StandardScaler()\n",
        "X_train_scaled = scaler.fit_transform(X_train)\n",
        "X_test_scaled = scaler.transform(X_test)"
      ],
      "metadata": {
        "id": "M43Cf_rUOt80"
      },
      "execution_count": 7,
      "outputs": []
    },
    {
      "cell_type": "code",
      "source": [
        "from sklearn.svm import SVC\n",
        "from sklearn.model_selection import cross_val_score, StratifiedKFold\n",
        "from sklearn.metrics import make_scorer, accuracy_score, f1_score\n",
        "\n",
        "model = SVC(kernel='linear', random_state=42)\n",
        "\n",
        "scoring = {\n",
        "    'accuracy': make_scorer(accuracy_score),\n",
        "    'f1_macro': make_scorer(f1_score, average='macro')\n",
        "}\n",
        "\n",
        "cv = StratifiedKFold(n_splits=5, shuffle=True, random_state=42)\n",
        "\n",
        "accuracy_scores = cross_val_score(model, X_train_scaled, y_train, cv=cv, scoring='accuracy')\n",
        "f1_scores = cross_val_score(model, X_train_scaled, y_train, cv=cv, scoring='f1_macro')"
      ],
      "metadata": {
        "id": "GveMo8UqPazl"
      },
      "execution_count": 8,
      "outputs": []
    },
    {
      "cell_type": "code",
      "source": [
        "print(f\"Accuracy across folds: {accuracy_scores}\")\n",
        "print(f\"Mean accuracy: {accuracy_scores.mean():.3f} ± {accuracy_scores.std():.3f}\")\n",
        "print(f\"\\nF1-score (macro) across folds: {f1_scores}\")\n",
        "print(f\"Mean F1-score: {f1_scores.mean():.3f} ± {f1_scores.std():.3f}\")"
      ],
      "metadata": {
        "colab": {
          "base_uri": "https://localhost:8080/"
        },
        "id": "hz-6DTiyQOeY",
        "outputId": "a2be7256-ac22-483c-87d7-5a3a515d4e7a"
      },
      "execution_count": 9,
      "outputs": [
        {
          "output_type": "stream",
          "name": "stdout",
          "text": [
            "Accuracy across folds: [0.95833333 0.95833333 0.95833333 1.         0.91666667]\n",
            "Mean accuracy: 0.958 ± 0.026\n",
            "\n",
            "F1-score (macro) across folds: [0.95816993 0.95816993 0.95816993 1.         0.91534392]\n",
            "Mean F1-score: 0.958 ± 0.027\n"
          ]
        }
      ]
    },
    {
      "cell_type": "code",
      "source": [
        "from sklearn.model_selection import cross_validate\n",
        "\n",
        "cv_results = cross_validate(model, X_train_scaled, y_train, cv=cv,\n",
        "                           scoring=['accuracy', 'f1_macro', 'precision_macro', 'recall_macro'])\n",
        "\n",
        "\n",
        "print(\"\\nDetailed metrics per fold:\")\n",
        "for i in range(cv.get_n_splits()):\n",
        "    print(f\"\\nFold {i+1}:\")\n",
        "    print(f\"  Accuracy: {cv_results['test_accuracy'][i]:.3f}\")\n",
        "    print(f\"  F1-score: {cv_results['test_f1_macro'][i]:.3f}\")\n",
        "    print(f\"  Precision: {cv_results['test_precision_macro'][i]:.3f}\")\n",
        "    print(f\"  Recall: {cv_results['test_recall_macro'][i]:.3f}\")\n",
        "\n",
        "\n",
        "print(\"\\nOverall performance:\")\n",
        "for metric in ['accuracy', 'f1_macro', 'precision_macro', 'recall_macro']:\n",
        "    scores = cv_results[f'test_{metric}']\n",
        "    print(f\"{metric}: {scores.mean():.3f} ± {scores.std():.3f}\")"
      ],
      "metadata": {
        "colab": {
          "base_uri": "https://localhost:8080/"
        },
        "id": "AdMvXADIQQ74",
        "outputId": "d6601cc4-1c93-4aea-91cf-3b3938661401"
      },
      "execution_count": 10,
      "outputs": [
        {
          "output_type": "stream",
          "name": "stdout",
          "text": [
            "\n",
            "Detailed metrics per fold:\n",
            "\n",
            "Fold 1:\n",
            "  Accuracy: 0.958\n",
            "  F1-score: 0.958\n",
            "  Precision: 0.958\n",
            "  Recall: 0.963\n",
            "\n",
            "Fold 2:\n",
            "  Accuracy: 0.958\n",
            "  F1-score: 0.958\n",
            "  Precision: 0.963\n",
            "  Recall: 0.958\n",
            "\n",
            "Fold 3:\n",
            "  Accuracy: 0.958\n",
            "  F1-score: 0.958\n",
            "  Precision: 0.963\n",
            "  Recall: 0.958\n",
            "\n",
            "Fold 4:\n",
            "  Accuracy: 1.000\n",
            "  F1-score: 1.000\n",
            "  Precision: 1.000\n",
            "  Recall: 1.000\n",
            "\n",
            "Fold 5:\n",
            "  Accuracy: 0.917\n",
            "  F1-score: 0.915\n",
            "  Precision: 0.933\n",
            "  Recall: 0.917\n",
            "\n",
            "Overall performance:\n",
            "accuracy: 0.958 ± 0.026\n",
            "f1_macro: 0.958 ± 0.027\n",
            "precision_macro: 0.964 ± 0.021\n",
            "recall_macro: 0.959 ± 0.026\n"
          ]
        }
      ]
    },
    {
      "cell_type": "code",
      "source": [
        "# Train on full training set\n",
        "model.fit(X_train_scaled, y_train)\n",
        "\n",
        "# Evaluate on test set\n",
        "test_accuracy = model.score(X_test_scaled, y_test)\n",
        "print(f\"\\nTest set accuracy: {test_accuracy:.3f}\")"
      ],
      "metadata": {
        "colab": {
          "base_uri": "https://localhost:8080/"
        },
        "id": "JO-W9AVYRpF2",
        "outputId": "ada211f8-1453-4592-8867-cd605fff50b7"
      },
      "execution_count": 11,
      "outputs": [
        {
          "output_type": "stream",
          "name": "stdout",
          "text": [
            "\n",
            "Test set accuracy: 0.967\n"
          ]
        }
      ]
    },
    {
      "cell_type": "markdown",
      "source": [
        "Task 2: Handle missing values, normalize features, and encode categorical variables using scikit-learn.\n",
        "Split data into training and testing sets.\n",
        "Create a Classification Report (Using Wine Dataset)"
      ],
      "metadata": {
        "id": "RZjnj2c3TKDc"
      }
    },
    {
      "cell_type": "code",
      "source": [
        "import numpy as np\n",
        "import pandas as pd\n",
        "from sklearn.datasets import load_wine\n",
        "from sklearn.model_selection import train_test_split\n",
        "from sklearn.preprocessing import StandardScaler, OneHotEncoder\n",
        "from sklearn.impute import SimpleImputer\n",
        "from sklearn.compose import ColumnTransformer\n",
        "from sklearn.pipeline import Pipeline\n",
        "from sklearn.ensemble import RandomForestClassifier\n",
        "from sklearn.metrics import classification_report\n",
        "\n"
      ],
      "metadata": {
        "id": "h6AR6uKQRyqB"
      },
      "execution_count": 12,
      "outputs": []
    },
    {
      "cell_type": "code",
      "source": [
        "wine = load_wine()\n",
        "X = pd.DataFrame(wine.data, columns=wine.feature_names)\n",
        "y = wine.target\n",
        "\n",
        "\n",
        "np.random.seed(42)\n",
        "mask = np.random.rand(*X.shape) < 0.1\n",
        "X[mask] = np.nan\n",
        "\n",
        "X['alcohol_category'] = pd.cut(X['alcohol'], bins=3, labels=['low', 'medium', 'high'])\n",
        "X.drop('alcohol', axis=1, inplace=True)"
      ],
      "metadata": {
        "id": "J7rDwO4HTcNR"
      },
      "execution_count": 13,
      "outputs": []
    },
    {
      "cell_type": "markdown",
      "source": [
        "Preproocessing pipeline"
      ],
      "metadata": {
        "id": "IEbPisRoUu8l"
      }
    },
    {
      "cell_type": "code",
      "source": [
        "numeric_features = [col for col in X.columns if col != 'alcohol_category']\n",
        "categorical_features = ['alcohol_category']\n",
        "\n",
        "numeric_transformer = Pipeline(steps=[\n",
        "    ('imputer', SimpleImputer(strategy='median')),\n",
        "    ('scaler', StandardScaler())])\n",
        "\n",
        "categorical_transformer = Pipeline(steps=[\n",
        "    ('imputer', SimpleImputer(strategy='most_frequent')),\n",
        "    ('encoder', OneHotEncoder(handle_unknown='ignore'))])\n",
        "\n",
        "preprocessor = ColumnTransformer(\n",
        "    transformers=[\n",
        "        ('num', numeric_transformer, numeric_features),\n",
        "        ('cat', categorical_transformer, categorical_features)])"
      ],
      "metadata": {
        "id": "gDICGc83UAk3"
      },
      "execution_count": 14,
      "outputs": []
    },
    {
      "cell_type": "markdown",
      "source": [
        "Model Pipeline\n",
        "\n",
        "  "
      ],
      "metadata": {
        "id": "38NV83VlVCp1"
      }
    },
    {
      "cell_type": "code",
      "source": [
        "# Split data\n",
        "X_train, X_test, y_train, y_test = train_test_split(X, y, test_size=0.2, random_state=42)\n",
        "\n",
        "# Create complete pipeline with classifier\n",
        "model = Pipeline(steps=[\n",
        "    ('preprocessor', preprocessor),\n",
        "    ('classifier', RandomForestClassifier(random_state=42))])"
      ],
      "metadata": {
        "id": "dFd4--gXU2Vx"
      },
      "execution_count": 15,
      "outputs": []
    },
    {
      "cell_type": "markdown",
      "source": [
        "Model results and classificiation report\n"
      ],
      "metadata": {
        "id": "JFOIa77TVL9G"
      }
    },
    {
      "cell_type": "code",
      "source": [
        "# Train model\n",
        "model.fit(X_train, y_train)\n",
        "\n",
        "# Predict on test set\n",
        "y_pred = model.predict(X_test)\n",
        "\n",
        "# Generate classification report\n",
        "print(\"\\nClassification Report:\")\n",
        "print(classification_report(y_test, y_pred, target_names=wine.target_names))\n",
        "\n",
        "# Additional metrics with cross-validation\n",
        "from sklearn.model_selection import cross_val_score\n",
        "cv_scores = cross_val_score(model, X, y, cv=5, scoring='accuracy')\n",
        "print(f\"\\nCross-validated accuracy: {cv_scores.mean():.3f} ± {cv_scores.std():.3f}\")"
      ],
      "metadata": {
        "colab": {
          "base_uri": "https://localhost:8080/"
        },
        "id": "brgbk2R-VFGq",
        "outputId": "2dc1bfd0-6914-47bb-a425-d6a0e601b710"
      },
      "execution_count": 16,
      "outputs": [
        {
          "output_type": "stream",
          "name": "stdout",
          "text": [
            "\n",
            "Classification Report:\n",
            "              precision    recall  f1-score   support\n",
            "\n",
            "     class_0       0.93      0.93      0.93        14\n",
            "     class_1       0.93      0.93      0.93        14\n",
            "     class_2       1.00      1.00      1.00         8\n",
            "\n",
            "    accuracy                           0.94        36\n",
            "   macro avg       0.95      0.95      0.95        36\n",
            "weighted avg       0.94      0.94      0.94        36\n",
            "\n",
            "\n",
            "Cross-validated accuracy: 0.955 ± 0.038\n"
          ]
        }
      ]
    },
    {
      "cell_type": "markdown",
      "source": [
        "Task 3: Use scikit-learn to train a classification model.\n",
        "Produce a report including precision, recall, and F1-score for each class. (Breast cancer dataset)"
      ],
      "metadata": {
        "id": "mMDqyj2xWxEw"
      }
    },
    {
      "cell_type": "code",
      "source": [
        "import numpy as np\n",
        "import pandas as pd\n",
        "from sklearn.datasets import load_breast_cancer\n",
        "from sklearn.model_selection import train_test_split\n",
        "from sklearn.preprocessing import StandardScaler\n",
        "from sklearn.ensemble import RandomForestClassifier\n",
        "from sklearn.pipeline import Pipeline\n",
        "from sklearn.metrics import classification_report, confusion_matrix\n",
        "from sklearn.model_selection import cross_val_score\n",
        "\n",
        "cancer = load_breast_cancer()\n",
        "X = pd.DataFrame(cancer.data, columns=cancer.feature_names)\n",
        "y = cancer.target\n",
        "\n",
        "print(f\"Dataset shape: {X.shape}\")\n",
        "print(f\"Feature names:\\n{cancer.feature_names}\")\n",
        "print(f\"Target classes: {cancer.target_names} (0: malignant, 1: benign)\")\n",
        "print(f\"\\nClass distribution:\\n{pd.Series(y).value_counts()}\")"
      ],
      "metadata": {
        "colab": {
          "base_uri": "https://localhost:8080/"
        },
        "id": "oPxoJ__7VJBO",
        "outputId": "2e42d483-8a1e-4be5-f644-2dae74dd1c88"
      },
      "execution_count": 17,
      "outputs": [
        {
          "output_type": "stream",
          "name": "stdout",
          "text": [
            "Dataset shape: (569, 30)\n",
            "Feature names:\n",
            "['mean radius' 'mean texture' 'mean perimeter' 'mean area'\n",
            " 'mean smoothness' 'mean compactness' 'mean concavity'\n",
            " 'mean concave points' 'mean symmetry' 'mean fractal dimension'\n",
            " 'radius error' 'texture error' 'perimeter error' 'area error'\n",
            " 'smoothness error' 'compactness error' 'concavity error'\n",
            " 'concave points error' 'symmetry error' 'fractal dimension error'\n",
            " 'worst radius' 'worst texture' 'worst perimeter' 'worst area'\n",
            " 'worst smoothness' 'worst compactness' 'worst concavity'\n",
            " 'worst concave points' 'worst symmetry' 'worst fractal dimension']\n",
            "Target classes: ['malignant' 'benign'] (0: malignant, 1: benign)\n",
            "\n",
            "Class distribution:\n",
            "1    357\n",
            "0    212\n",
            "Name: count, dtype: int64\n"
          ]
        }
      ]
    },
    {
      "cell_type": "markdown",
      "source": [
        "data preprocessing"
      ],
      "metadata": {
        "id": "Qos1LJL0XuE_"
      }
    },
    {
      "cell_type": "code",
      "source": [
        "X_train, X_test, y_train, y_test = train_test_split(\n",
        "    X, y, test_size=0.2, random_state=42, stratify=y)\n",
        "\n",
        "pipeline = Pipeline([\n",
        "    ('scaler', StandardScaler()),  #Standardize features\n",
        "    ('classifier', RandomForestClassifier(\n",
        "        n_estimators=100,\n",
        "        max_depth=5,\n",
        "        random_state=42,\n",
        "        class_weight='balanced'  #class imbalance\n",
        "    ))\n",
        "])"
      ],
      "metadata": {
        "id": "cTY9-2uoXJYZ"
      },
      "execution_count": 20,
      "outputs": []
    },
    {
      "cell_type": "markdown",
      "source": [
        "Model training and evaluation"
      ],
      "metadata": {
        "id": "Fc6Zh3stY3Iz"
      }
    },
    {
      "cell_type": "code",
      "source": [
        "pipeline.fit(X_train, y_train)\n",
        "\n",
        "y_pred = pipeline.predict(X_test)\n",
        "y_proba = pipeline.predict_proba(X_test)[:, 1]\n",
        "\n",
        "print(\"\\n=== Classification Report ===\")\n",
        "print(classification_report(y_test, y_pred, target_names=cancer.target_names))\n",
        "\n",
        "print(\"\\n=== Confusion Matrix ===\")\n",
        "print(confusion_matrix(y_test, y_pred))\n",
        "\n",
        "\n",
        "cv_scores = cross_val_score(pipeline, X, y, cv=5, scoring='f1')\n",
        "print(f\"\\nCross-validated F1 scores: {cv_scores}\")\n",
        "print(f\"Mean F1: {np.mean(cv_scores):.3f} ± {np.std(cv_scores):.3f}\")"
      ],
      "metadata": {
        "colab": {
          "base_uri": "https://localhost:8080/"
        },
        "id": "K9NMxGKhX3nt",
        "outputId": "55901800-2e96-4cd5-f770-625cd01fd4a1"
      },
      "execution_count": 21,
      "outputs": [
        {
          "output_type": "stream",
          "name": "stdout",
          "text": [
            "\n",
            "=== Classification Report ===\n",
            "              precision    recall  f1-score   support\n",
            "\n",
            "   malignant       0.89      0.93      0.91        42\n",
            "      benign       0.96      0.93      0.94        72\n",
            "\n",
            "    accuracy                           0.93       114\n",
            "   macro avg       0.92      0.93      0.93       114\n",
            "weighted avg       0.93      0.93      0.93       114\n",
            "\n",
            "\n",
            "=== Confusion Matrix ===\n",
            "[[39  3]\n",
            " [ 5 67]]\n",
            "\n",
            "Cross-validated F1 scores: [0.93617021 0.95890411 0.98611111 0.97222222 0.97142857]\n",
            "Mean F1: 0.965 ± 0.017\n"
          ]
        }
      ]
    },
    {
      "cell_type": "markdown",
      "source": [
        "Feature importance Analysis"
      ],
      "metadata": {
        "id": "WeeMyrAGZOXN"
      }
    },
    {
      "cell_type": "code",
      "source": [
        "importances = pipeline.named_steps['classifier'].feature_importances_\n",
        "indices = np.argsort(importances)[::-1]\n",
        "\n",
        "print(\"\\n=== Feature Importances ===\")\n",
        "for i in range(10):\n",
        "    print(f\"{i+1}. {cancer.feature_names[indices[i]]}: {importances[indices[i]]:.4f}\")"
      ],
      "metadata": {
        "colab": {
          "base_uri": "https://localhost:8080/"
        },
        "id": "slH_Rz20Yk_D",
        "outputId": "d08a82a3-d318-4dcb-a2be-4786ae84af1d"
      },
      "execution_count": 22,
      "outputs": [
        {
          "output_type": "stream",
          "name": "stdout",
          "text": [
            "\n",
            "=== Feature Importances ===\n",
            "1. worst area: 0.1540\n",
            "2. worst concave points: 0.1270\n",
            "3. mean concave points: 0.1006\n",
            "4. worst radius: 0.0909\n",
            "5. worst perimeter: 0.0763\n",
            "6. mean concavity: 0.0743\n",
            "7. mean perimeter: 0.0695\n",
            "8. mean radius: 0.0443\n",
            "9. area error: 0.0430\n",
            "10. mean area: 0.0373\n"
          ]
        }
      ]
    },
    {
      "cell_type": "code",
      "source": [],
      "metadata": {
        "id": "EBzcr-EQZL3v"
      },
      "execution_count": null,
      "outputs": []
    }
  ]
}